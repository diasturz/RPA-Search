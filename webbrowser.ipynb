{
 "cells": [
  {
   "cell_type": "code",
   "execution_count": 1,
   "id": "6605ad25",
   "metadata": {},
   "outputs": [
    {
     "name": "stderr",
     "output_type": "stream",
     "text": [
      "\n",
      "KeyboardInterrupt\n",
      "\n"
     ]
    }
   ],
   "source": [
    "import openpyxl\n",
    "import webbrowser\n",
    "import time\n",
    "\n",
    "# Definir o caminho do arquivo Excel\n",
    "caminho_arquivo = r'C:\\Users\\artur\\OneDrive\\Documentos\\entusiasta leads\\planilhas tratadas\\leads_tratados.xlsx'\n",
    "\n",
    "# Carregar o arquivo Excel\n",
    "wb = openpyxl.load_workbook(caminho_arquivo)\n",
    "ws = wb.active\n",
    "\n",
    "# Encontrar o índice da última coluna\n",
    "ultima_coluna = ws.max_column\n",
    "\n",
    "# Iterar sobre as linhas para pegar os valores da célula A (primeira coluna) e da última coluna\n",
    "for row in ws.iter_rows(min_row=2, max_col=ultima_coluna, values_only=True):  # A partir da segunda linha\n",
    "    nome_local = row[0]  # Valor da primeira coluna (A)\n",
    "    cidade_estado = row[ultima_coluna - 1]  # Valor da última coluna (Cidade_Estado)\n",
    "    \n",
    "    # Concatenar Nome Local e Cidade/Estado\n",
    "    pesquisa = f\"{nome_local} {cidade_estado} CNPJ\"\n",
    "    \n",
    "    # Criar a URL de pesquisa no Google\n",
    "    url = f\"https://www.google.com/search?q={pesquisa.replace(' ', '+')}\"\n",
    "    \n",
    "    # Abrir a pesquisa no navegador\n",
    "    webbrowser.open(url)\n",
    "\n",
    "    # Você pode adicionar um limite ou uma pausa entre as pesquisas, se necessário\n",
    "    time.sleep(2)  # Pausar por 2 segundos entre as pesquisas (import time se usar isso)\n"
   ]
  },
  {
   "cell_type": "code",
   "execution_count": null,
   "id": "ba3a4d58",
   "metadata": {},
   "outputs": [],
   "source": []
  }
 ],
 "metadata": {
  "kernelspec": {
   "display_name": "Python 3 (ipykernel)",
   "language": "python",
   "name": "python3"
  },
  "language_info": {
   "codemirror_mode": {
    "name": "ipython",
    "version": 3
   },
   "file_extension": ".py",
   "mimetype": "text/x-python",
   "name": "python",
   "nbconvert_exporter": "python",
   "pygments_lexer": "ipython3",
   "version": "3.11.5"
  }
 },
 "nbformat": 4,
 "nbformat_minor": 5
}
